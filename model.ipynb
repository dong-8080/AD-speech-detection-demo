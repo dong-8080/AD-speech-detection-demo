{
 "cells": [
  {
   "cell_type": "code",
   "execution_count": null,
   "metadata": {},
   "outputs": [],
   "source": [
    "# 韵律特征\n",
    "import os\n",
    "import pandas as pd\n",
    "\n",
    "path = \"/home/wd/data/NCMMSC/prosody\"\n",
    "\n",
    "train_set = pd.read_csv(os.path.join(path, \"prosody_train.csv\"))\n",
    "test_set = pd.read_csv(os.path.join(path, \"prosody_test.csv\"))\n",
    "\n",
    "train_set.sort_values(by=\"AudioFile\", inplace=True)\n",
    "test_set.sort_values(by=\"AudioFile\", inplace=True)\n",
    "train_set.reset_index(inplace=True, drop=True)\n",
    "test_set.reset_index(inplace=True, drop=True)"
   ]
  },
  {
   "cell_type": "code",
   "execution_count": null,
   "metadata": {},
   "outputs": [],
   "source": [
    "# proprecessing 删去AD_F_040108与HC_F_122302\n",
    "name = train_set[\"AudioFile\"]\n",
    "drop_idx = [i for i, n in enumerate(name) if (n.startswith(\"AD_F_040108\") or n.startswith(\"HC_F_122302\"))]\n",
    "\n",
    "train_set.drop(drop_idx, inplace=True)\n",
    "name = train_set[\"AudioFile\"].tolist()\n",
    "train_set.drop(\"AudioFile\", axis=1, inplace=True)\n",
    "\n",
    "train_set\n",
    "\n",
    "train_set.reset_index(inplace=True, drop=True)"
   ]
  },
  {
   "cell_type": "code",
   "execution_count": null,
   "metadata": {},
   "outputs": [],
   "source": [
    "train_label = [i.split(\"_\")[0] for i in name]\n",
    "test_label = [i.split(\"_\")[1][:-4] for i in test_set[\"AudioFile\"].values]\n",
    "test_set.drop(\"AudioFile\", axis=1, inplace=True)"
   ]
  },
  {
   "cell_type": "code",
   "execution_count": null,
   "metadata": {},
   "outputs": [],
   "source": [
    "train_prosody, test_prosody = train_set.copy(), test_set.copy()"
   ]
  },
  {
   "cell_type": "code",
   "execution_count": null,
   "metadata": {},
   "outputs": [],
   "source": [
    "train_set = pd.read_csv(\"/home/wd/data/SystemDemo/trainset_is.csv\")\n",
    "train_set.sort_values(by=\"name\", inplace=True)\n",
    "train_set.reset_index(inplace=True, drop=True)"
   ]
  },
  {
   "cell_type": "code",
   "execution_count": null,
   "metadata": {},
   "outputs": [],
   "source": [
    "# proprecessing 删去AD_F_040108与HC_F_122302\n",
    "drop_idx = [i for i, n in enumerate(train_set[\"name\"]) if (n.startswith(\"AD_F_040108\") or n.startswith(\"HC_F_122302\"))]\n",
    "\n",
    "train_set.drop(drop_idx, inplace=True)\n",
    "train_set.reset_index(inplace=True, drop=True)\n",
    "\n",
    "train_set"
   ]
  },
  {
   "cell_type": "code",
   "execution_count": null,
   "metadata": {},
   "outputs": [],
   "source": [
    "test_set = pd.read_csv(\"/home/wd/data/SystemDemo/testset_is.csv\")\n",
    "test_set.sort_values(by=\"name\", inplace=True)\n",
    "test_set.reset_index(inplace=True, drop=True)\n",
    "test_set"
   ]
  },
  {
   "cell_type": "code",
   "execution_count": null,
   "metadata": {},
   "outputs": [],
   "source": [
    "train_ege, test_ege = train_set.copy(), test_set.copy()"
   ]
  },
  {
   "cell_type": "code",
   "execution_count": null,
   "metadata": {},
   "outputs": [],
   "source": [
    "# 拼接两组特征\n",
    "train_combine = pd.concat([train_ege, train_prosody], axis=1)\n",
    "test_combine = pd.concat([test_ege, test_prosody], axis=1)"
   ]
  },
  {
   "cell_type": "markdown",
   "metadata": {},
   "source": [
    "## PCA + AVONA + SVM 调参"
   ]
  },
  {
   "cell_type": "code",
   "execution_count": null,
   "metadata": {},
   "outputs": [],
   "source": [
    "from sklearn.metrics import accuracy_score, precision_score, roc_auc_score, recall_score, f1_score\n",
    "from sklearn.svm import SVC\n",
    "from sklearn.ensemble import RandomForestClassifier\n",
    "from sklearn.metrics import accuracy_score, confusion_matrix\n",
    "from sklearn.preprocessing import StandardScaler\n",
    "from sklearn.feature_selection import SelectFromModel\n",
    "from sklearn.pipeline import make_pipeline\n",
    "from sklearn.feature_selection import SelectKBest, f_classif"
   ]
  },
  {
   "cell_type": "code",
   "execution_count": null,
   "metadata": {},
   "outputs": [],
   "source": [
    "clf = make_pipeline(\n",
    "    StandardScaler(),\n",
    "    PCA(n_components=0.8),\n",
    "    SelectKBest(f_classif, k=4),\n",
    "    SVC(kernel=\"rbf\", class_weight={\"HC\":1, \"MCI\":1, \"AD\":2}, C=5)\n",
    ")\n",
    "clf.fit(train_combine.iloc[:,2:], train_label)\n",
    "pred = clf.predict(test_combine.iloc[:, 2:])"
   ]
  },
  {
   "cell_type": "code",
   "execution_count": null,
   "metadata": {},
   "outputs": [],
   "source": [
    "print(accuracy_score(test_label, pred))\n",
    "print(precision_score(test_label, pred, average=\"weighted\"))\n",
    "# print(roc_auc_score(test_label, pred))\n",
    "print(recall_score(test_label, pred, average=\"weighted\"))\n",
    "print(f1_score(test_label, pred, average=\"weighted\"))"
   ]
  },
  {
   "cell_type": "code",
   "execution_count": null,
   "metadata": {},
   "outputs": [],
   "source": [
    "import joblib\n",
    "\n",
    "joblib.dump(clf, 'svm.model')"
   ]
  },
  {
   "cell_type": "code",
   "execution_count": null,
   "metadata": {},
   "outputs": [],
   "source": []
  },
  {
   "cell_type": "code",
   "execution_count": null,
   "metadata": {},
   "outputs": [],
   "source": []
  },
  {
   "cell_type": "code",
   "execution_count": null,
   "metadata": {},
   "outputs": [],
   "source": []
  },
  {
   "cell_type": "code",
   "execution_count": null,
   "metadata": {},
   "outputs": [],
   "source": []
  },
  {
   "cell_type": "code",
   "execution_count": null,
   "metadata": {},
   "outputs": [],
   "source": []
  },
  {
   "cell_type": "code",
   "execution_count": null,
   "metadata": {},
   "outputs": [],
   "source": []
  },
  {
   "cell_type": "code",
   "execution_count": null,
   "metadata": {},
   "outputs": [],
   "source": []
  },
  {
   "cell_type": "code",
   "execution_count": null,
   "metadata": {},
   "outputs": [],
   "source": []
  }
 ],
 "metadata": {
  "kernelspec": {
   "display_name": "Python [conda env:cuda11]",
   "language": "python",
   "name": "conda-env-cuda11-py"
  },
  "language_info": {
   "codemirror_mode": {
    "name": "ipython",
    "version": 3
   },
   "file_extension": ".py",
   "mimetype": "text/x-python",
   "name": "python",
   "nbconvert_exporter": "python",
   "pygments_lexer": "ipython3",
   "version": "3.7.12"
  }
 },
 "nbformat": 4,
 "nbformat_minor": 4
}
